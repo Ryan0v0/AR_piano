{
 "cells": [
  {
   "cell_type": "code",
   "execution_count": 1,
   "metadata": {},
   "outputs": [],
   "source": [
    "import pandas as pd\n",
    "import matplotlib.pylab as plt\n",
    "import string"
   ]
  },
  {
   "cell_type": "code",
   "execution_count": 5,
   "metadata": {},
   "outputs": [
    {
     "name": "stdout",
     "output_type": "stream",
     "text": [
      "./jht+right.txt\n"
     ]
    }
   ],
   "source": [
    "tab1 = \"./jht+right.txt\"\n",
    "print(tab1)"
   ]
  },
  {
   "cell_type": "code",
   "execution_count": null,
   "metadata": {},
   "outputs": [],
   "source": []
  },
  {
   "cell_type": "code",
   "execution_count": null,
   "metadata": {},
   "outputs": [],
   "source": []
  },
  {
   "cell_type": "code",
   "execution_count": 34,
   "metadata": {},
   "outputs": [],
   "source": [
    "df_hd = pd.read_table(tab1, sep='|', header=None)"
   ]
  },
  {
   "cell_type": "code",
   "execution_count": 35,
   "metadata": {},
   "outputs": [
    {
     "data": {
      "text/html": [
       "<div>\n",
       "<style scoped>\n",
       "    .dataframe tbody tr th:only-of-type {\n",
       "        vertical-align: middle;\n",
       "    }\n",
       "\n",
       "    .dataframe tbody tr th {\n",
       "        vertical-align: top;\n",
       "    }\n",
       "\n",
       "    .dataframe thead th {\n",
       "        text-align: right;\n",
       "    }\n",
       "</style>\n",
       "<table border=\"1\" class=\"dataframe\">\n",
       "  <thead>\n",
       "    <tr style=\"text-align: right;\">\n",
       "      <th></th>\n",
       "      <th>0</th>\n",
       "      <th>1</th>\n",
       "      <th>2</th>\n",
       "      <th>3</th>\n",
       "    </tr>\n",
       "  </thead>\n",
       "  <tbody>\n",
       "    <tr>\n",
       "      <th>0</th>\n",
       "      <td>65</td>\n",
       "      <td>2.647056</td>\n",
       "      <td>3.044114</td>\n",
       "      <td>0</td>\n",
       "    </tr>\n",
       "    <tr>\n",
       "      <th>1</th>\n",
       "      <td>67</td>\n",
       "      <td>3.088232</td>\n",
       "      <td>3.485290</td>\n",
       "      <td>0</td>\n",
       "    </tr>\n",
       "    <tr>\n",
       "      <th>2</th>\n",
       "      <td>69</td>\n",
       "      <td>3.529408</td>\n",
       "      <td>4.323525</td>\n",
       "      <td>0</td>\n",
       "    </tr>\n",
       "    <tr>\n",
       "      <th>3</th>\n",
       "      <td>69</td>\n",
       "      <td>4.411760</td>\n",
       "      <td>4.808818</td>\n",
       "      <td>0</td>\n",
       "    </tr>\n",
       "    <tr>\n",
       "      <th>4</th>\n",
       "      <td>72</td>\n",
       "      <td>4.852936</td>\n",
       "      <td>5.249994</td>\n",
       "      <td>0</td>\n",
       "    </tr>\n",
       "  </tbody>\n",
       "</table>\n",
       "</div>"
      ],
      "text/plain": [
       "    0         1         2  3\n",
       "0  65  2.647056  3.044114  0\n",
       "1  67  3.088232  3.485290  0\n",
       "2  69  3.529408  4.323525  0\n",
       "3  69  4.411760  4.808818  0\n",
       "4  72  4.852936  5.249994  0"
      ]
     },
     "execution_count": 35,
     "metadata": {},
     "output_type": "execute_result"
    }
   ],
   "source": [
    "df_hd.head()"
   ]
  },
  {
   "cell_type": "code",
   "execution_count": 39,
   "metadata": {},
   "outputs": [
    {
     "name": "stdout",
     "output_type": "stream",
     "text": [
      "0      65\n",
      "1      67\n",
      "2      69\n",
      "3      69\n",
      "4      72\n",
      "       ..\n",
      "219    60\n",
      "220    65\n",
      "221    69\n",
      "222    77\n",
      "223    72\n",
      "Name: 0, Length: 224, dtype: int64\n"
     ]
    }
   ],
   "source": [
    "note = df_hd[0]\n",
    "print(note)"
   ]
  },
  {
   "cell_type": "code",
   "execution_count": 38,
   "metadata": {},
   "outputs": [
    {
     "ename": "AttributeError",
     "evalue": "'Series' object has no attribute 'stack'",
     "output_type": "error",
     "traceback": [
      "\u001b[0;31m---------------------------------------------------------------------------\u001b[0m",
      "\u001b[0;31mAttributeError\u001b[0m                            Traceback (most recent call last)",
      "\u001b[0;32m<ipython-input-38-d9a57f08839e>\u001b[0m in \u001b[0;36m<module>\u001b[0;34m\u001b[0m\n\u001b[0;32m----> 1\u001b[0;31m \u001b[0mprint\u001b[0m\u001b[0;34m(\u001b[0m\u001b[0mnote\u001b[0m\u001b[0;34m.\u001b[0m\u001b[0mstack\u001b[0m\u001b[0;34m(\u001b[0m\u001b[0;34m)\u001b[0m\u001b[0;34m)\u001b[0m\u001b[0;34m\u001b[0m\u001b[0;34m\u001b[0m\u001b[0m\n\u001b[0m",
      "\u001b[0;32m/usr/local/lib/python3.7/site-packages/pandas/core/generic.py\u001b[0m in \u001b[0;36m__getattr__\u001b[0;34m(self, name)\u001b[0m\n\u001b[1;32m   5178\u001b[0m             \u001b[0;32mif\u001b[0m \u001b[0mself\u001b[0m\u001b[0;34m.\u001b[0m\u001b[0m_info_axis\u001b[0m\u001b[0;34m.\u001b[0m\u001b[0m_can_hold_identifiers_and_holds_name\u001b[0m\u001b[0;34m(\u001b[0m\u001b[0mname\u001b[0m\u001b[0;34m)\u001b[0m\u001b[0;34m:\u001b[0m\u001b[0;34m\u001b[0m\u001b[0;34m\u001b[0m\u001b[0m\n\u001b[1;32m   5179\u001b[0m                 \u001b[0;32mreturn\u001b[0m \u001b[0mself\u001b[0m\u001b[0;34m[\u001b[0m\u001b[0mname\u001b[0m\u001b[0;34m]\u001b[0m\u001b[0;34m\u001b[0m\u001b[0;34m\u001b[0m\u001b[0m\n\u001b[0;32m-> 5180\u001b[0;31m             \u001b[0;32mreturn\u001b[0m \u001b[0mobject\u001b[0m\u001b[0;34m.\u001b[0m\u001b[0m__getattribute__\u001b[0m\u001b[0;34m(\u001b[0m\u001b[0mself\u001b[0m\u001b[0;34m,\u001b[0m \u001b[0mname\u001b[0m\u001b[0;34m)\u001b[0m\u001b[0;34m\u001b[0m\u001b[0;34m\u001b[0m\u001b[0m\n\u001b[0m\u001b[1;32m   5181\u001b[0m \u001b[0;34m\u001b[0m\u001b[0m\n\u001b[1;32m   5182\u001b[0m     \u001b[0;32mdef\u001b[0m \u001b[0m__setattr__\u001b[0m\u001b[0;34m(\u001b[0m\u001b[0mself\u001b[0m\u001b[0;34m,\u001b[0m \u001b[0mname\u001b[0m\u001b[0;34m,\u001b[0m \u001b[0mvalue\u001b[0m\u001b[0;34m)\u001b[0m\u001b[0;34m:\u001b[0m\u001b[0;34m\u001b[0m\u001b[0;34m\u001b[0m\u001b[0m\n",
      "\u001b[0;31mAttributeError\u001b[0m: 'Series' object has no attribute 'stack'"
     ]
    }
   ],
   "source": [
    "print(note.stack())"
   ]
  },
  {
   "cell_type": "code",
   "execution_count": 31,
   "metadata": {},
   "outputs": [],
   "source": [
    "note.to_csv(\"./input.txt\", index=False, header=False)"
   ]
  },
  {
   "cell_type": "code",
   "execution_count": 98,
   "metadata": {},
   "outputs": [],
   "source": [
    "df_hd2 = pd.read_table(\"./output0.txt\", sep=',', header=None)"
   ]
  },
  {
   "cell_type": "code",
   "execution_count": 99,
   "metadata": {},
   "outputs": [],
   "source": [
    "df_hd2.to_csv(\"./output0_right.txt\", sep='|', index=False, header=False)"
   ]
  },
  {
   "cell_type": "code",
   "execution_count": 65,
   "metadata": {},
   "outputs": [
    {
     "data": {
      "text/html": [
       "<div>\n",
       "<style scoped>\n",
       "    .dataframe tbody tr th:only-of-type {\n",
       "        vertical-align: middle;\n",
       "    }\n",
       "\n",
       "    .dataframe tbody tr th {\n",
       "        vertical-align: top;\n",
       "    }\n",
       "\n",
       "    .dataframe thead th {\n",
       "        text-align: right;\n",
       "    }\n",
       "</style>\n",
       "<table border=\"1\" class=\"dataframe\">\n",
       "  <thead>\n",
       "    <tr style=\"text-align: right;\">\n",
       "      <th></th>\n",
       "      <th>0</th>\n",
       "      <th>1</th>\n",
       "      <th>2</th>\n",
       "      <th>3</th>\n",
       "      <th>4</th>\n",
       "      <th>5</th>\n",
       "      <th>6</th>\n",
       "      <th>7</th>\n",
       "      <th>8</th>\n",
       "      <th>9</th>\n",
       "      <th>...</th>\n",
       "      <th>214</th>\n",
       "      <th>215</th>\n",
       "      <th>216</th>\n",
       "      <th>217</th>\n",
       "      <th>218</th>\n",
       "      <th>219</th>\n",
       "      <th>220</th>\n",
       "      <th>221</th>\n",
       "      <th>222</th>\n",
       "      <th>223</th>\n",
       "    </tr>\n",
       "  </thead>\n",
       "  <tbody>\n",
       "    <tr>\n",
       "      <th>0</th>\n",
       "      <td>2</td>\n",
       "      <td>1</td>\n",
       "      <td>2</td>\n",
       "      <td>1</td>\n",
       "      <td>3</td>\n",
       "      <td>4</td>\n",
       "      <td>1</td>\n",
       "      <td>3</td>\n",
       "      <td>2</td>\n",
       "      <td>1</td>\n",
       "      <td>...</td>\n",
       "      <td>5</td>\n",
       "      <td>2</td>\n",
       "      <td>3</td>\n",
       "      <td>2</td>\n",
       "      <td>1</td>\n",
       "      <td>1</td>\n",
       "      <td>2</td>\n",
       "      <td>4</td>\n",
       "      <td>5</td>\n",
       "      <td>2</td>\n",
       "    </tr>\n",
       "  </tbody>\n",
       "</table>\n",
       "<p>1 rows × 224 columns</p>\n",
       "</div>"
      ],
      "text/plain": [
       "   0    1    2    3    4    5    6    7    8    9    ...  214  215  216  217  \\\n",
       "0    2    1    2    1    3    4    1    3    2    1  ...    5    2    3    2   \n",
       "\n",
       "   218  219  220  221  222  223  \n",
       "0    1    1    2    4    5    2  \n",
       "\n",
       "[1 rows x 224 columns]"
      ]
     },
     "execution_count": 65,
     "metadata": {},
     "output_type": "execute_result"
    }
   ],
   "source": [
    "df_hd2.head()"
   ]
  },
  {
   "cell_type": "code",
   "execution_count": null,
   "metadata": {},
   "outputs": [],
   "source": []
  },
  {
   "cell_type": "code",
   "execution_count": 60,
   "metadata": {},
   "outputs": [],
   "source": [
    "#f2 = open(\"input.txt\",\"w\")\n",
    "#f = open(\"input0.txt\",\"r\")\n",
    "res=[]\n",
    "#bian li wenjian,bing xie ru xin wen jian\n",
    "for index,row in df_hd.iterrows():\n",
    "    #line=line.strip('\\n')\n",
    "    res.append(int(row[0]))"
   ]
  },
  {
   "cell_type": "code",
   "execution_count": 61,
   "metadata": {},
   "outputs": [
    {
     "name": "stdout",
     "output_type": "stream",
     "text": [
      "[65, 67, 69, 69, 72, 74, 74, 81, 79, 77, 77, 74, 72, 74, 72, 72, 69, 67, 65, 62, 65, 67, 65, 67, 69, 69, 72, 74, 74, 81, 79, 77, 77, 79, 77, 72, 72, 69, 76, 77, 65, 67, 69, 67, 65, 65, 69, 69, 67, 69, 69, 72, 69, 67, 69, 65, 65, 67, 69, 72, 69, 67, 67, 65, 67, 69, 72, 69, 74, 72, 74, 72, 72, 69, 72, 60, 69, 67, 69, 72, 69, 67, 67, 67, 65, 67, 65, 72, 69, 69, 67, 69, 69, 72, 69, 67, 69, 65, 65, 67, 69, 72, 69, 67, 67, 65, 67, 69, 72, 69, 74, 72, 74, 72, 72, 69, 72, 69, 67, 69, 72, 69, 67, 67, 65, 62, 65, 70, 65, 70, 64, 67, 72, 65, 67, 69, 69, 72, 74, 74, 81, 79, 77, 77, 74, 72, 74, 72, 69, 67, 65, 62, 65, 67, 67, 65, 67, 65, 67, 69, 69, 72, 74, 74, 81, 79, 77, 77, 79, 77, 72, 72, 69, 76, 77, 65, 67, 69, 67, 65, 60, 65, 67, 69, 72, 74, 77, 79, 81, 77, 79, 72, 77, 79, 81, 84, 79, 81, 77, 60, 65, 67, 69, 72, 74, 77, 79, 81, 77, 79, 72, 77, 79, 81, 84, 79, 81, 77, 57, 60, 65, 69, 77, 72]\n"
     ]
    }
   ],
   "source": [
    "print(res)"
   ]
  },
  {
   "cell_type": "code",
   "execution_count": 66,
   "metadata": {},
   "outputs": [
    {
     "name": "stdout",
     "output_type": "stream",
     "text": [
      "0      2\n",
      "1      1\n",
      "2      2\n",
      "3      1\n",
      "4      3\n",
      "      ..\n",
      "219    1\n",
      "220    2\n",
      "221    4\n",
      "222    5\n",
      "223    2\n",
      "Name: 0, Length: 224, dtype: int64\n"
     ]
    },
    {
     "name": "stderr",
     "output_type": "stream",
     "text": [
      "/usr/local/lib/python3.7/site-packages/ipykernel_launcher.py:1: FutureWarning: \n",
      ".ix is deprecated. Please use\n",
      ".loc for label based indexing or\n",
      ".iloc for positional indexing\n",
      "\n",
      "See the documentation here:\n",
      "http://pandas.pydata.org/pandas-docs/stable/user_guide/indexing.html#ix-indexer-is-deprecated\n",
      "  \"\"\"Entry point for launching an IPython kernel.\n"
     ]
    }
   ],
   "source": [
    "list=df_hd2.ix[0]\n",
    "print(list)"
   ]
  },
  {
   "cell_type": "code",
   "execution_count": 68,
   "metadata": {},
   "outputs": [],
   "source": [
    "df_hd.to_csv(\"./input.csv\", index=False, header=False)"
   ]
  },
  {
   "cell_type": "code",
   "execution_count": 69,
   "metadata": {},
   "outputs": [],
   "source": [
    "list.to_csv(\"./output.csv\", index=False, header=False)"
   ]
  },
  {
   "cell_type": "code",
   "execution_count": 102,
   "metadata": {},
   "outputs": [],
   "source": [
    "res = pd.read_csv(\"./res_right.csv\", header=None)"
   ]
  },
  {
   "cell_type": "code",
   "execution_count": 103,
   "metadata": {},
   "outputs": [
    {
     "data": {
      "text/html": [
       "<div>\n",
       "<style scoped>\n",
       "    .dataframe tbody tr th:only-of-type {\n",
       "        vertical-align: middle;\n",
       "    }\n",
       "\n",
       "    .dataframe tbody tr th {\n",
       "        vertical-align: top;\n",
       "    }\n",
       "\n",
       "    .dataframe thead th {\n",
       "        text-align: right;\n",
       "    }\n",
       "</style>\n",
       "<table border=\"1\" class=\"dataframe\">\n",
       "  <thead>\n",
       "    <tr style=\"text-align: right;\">\n",
       "      <th></th>\n",
       "      <th>0</th>\n",
       "      <th>1</th>\n",
       "      <th>2</th>\n",
       "      <th>3</th>\n",
       "    </tr>\n",
       "  </thead>\n",
       "  <tbody>\n",
       "    <tr>\n",
       "      <th>0</th>\n",
       "      <td>65</td>\n",
       "      <td>2.647056</td>\n",
       "      <td>3.044114</td>\n",
       "      <td>2</td>\n",
       "    </tr>\n",
       "    <tr>\n",
       "      <th>1</th>\n",
       "      <td>67</td>\n",
       "      <td>3.088232</td>\n",
       "      <td>3.485290</td>\n",
       "      <td>1</td>\n",
       "    </tr>\n",
       "    <tr>\n",
       "      <th>2</th>\n",
       "      <td>69</td>\n",
       "      <td>3.529408</td>\n",
       "      <td>4.323525</td>\n",
       "      <td>2</td>\n",
       "    </tr>\n",
       "    <tr>\n",
       "      <th>3</th>\n",
       "      <td>69</td>\n",
       "      <td>4.411760</td>\n",
       "      <td>4.808818</td>\n",
       "      <td>1</td>\n",
       "    </tr>\n",
       "    <tr>\n",
       "      <th>4</th>\n",
       "      <td>72</td>\n",
       "      <td>4.852936</td>\n",
       "      <td>5.249994</td>\n",
       "      <td>3</td>\n",
       "    </tr>\n",
       "  </tbody>\n",
       "</table>\n",
       "</div>"
      ],
      "text/plain": [
       "    0         1         2  3\n",
       "0  65  2.647056  3.044114  2\n",
       "1  67  3.088232  3.485290  1\n",
       "2  69  3.529408  4.323525  2\n",
       "3  69  4.411760  4.808818  1\n",
       "4  72  4.852936  5.249994  3"
      ]
     },
     "execution_count": 103,
     "metadata": {},
     "output_type": "execute_result"
    }
   ],
   "source": [
    "res.head()"
   ]
  },
  {
   "cell_type": "code",
   "execution_count": 104,
   "metadata": {},
   "outputs": [],
   "source": [
    "res.to_csv(\"./right_test.txt\", sep='|', index=False, header=False, float_format = '%.6f')"
   ]
  },
  {
   "cell_type": "code",
   "execution_count": null,
   "metadata": {},
   "outputs": [],
   "source": []
  },
  {
   "cell_type": "code",
   "execution_count": 79,
   "metadata": {},
   "outputs": [
    {
     "name": "stdout",
     "output_type": "stream",
     "text": [
      "./jht+left.txt\n"
     ]
    },
    {
     "data": {
      "text/html": [
       "<div>\n",
       "<style scoped>\n",
       "    .dataframe tbody tr th:only-of-type {\n",
       "        vertical-align: middle;\n",
       "    }\n",
       "\n",
       "    .dataframe tbody tr th {\n",
       "        vertical-align: top;\n",
       "    }\n",
       "\n",
       "    .dataframe thead th {\n",
       "        text-align: right;\n",
       "    }\n",
       "</style>\n",
       "<table border=\"1\" class=\"dataframe\">\n",
       "  <thead>\n",
       "    <tr style=\"text-align: right;\">\n",
       "      <th></th>\n",
       "      <th>0</th>\n",
       "      <th>1</th>\n",
       "      <th>2</th>\n",
       "      <th>3</th>\n",
       "    </tr>\n",
       "  </thead>\n",
       "  <tbody>\n",
       "    <tr>\n",
       "      <th>0</th>\n",
       "      <td>57</td>\n",
       "      <td>3.419114</td>\n",
       "      <td>5.007348</td>\n",
       "      <td>0</td>\n",
       "    </tr>\n",
       "    <tr>\n",
       "      <th>1</th>\n",
       "      <td>53</td>\n",
       "      <td>3.474261</td>\n",
       "      <td>5.062495</td>\n",
       "      <td>0</td>\n",
       "    </tr>\n",
       "    <tr>\n",
       "      <th>2</th>\n",
       "      <td>48</td>\n",
       "      <td>3.529408</td>\n",
       "      <td>5.117642</td>\n",
       "      <td>0</td>\n",
       "    </tr>\n",
       "    <tr>\n",
       "      <th>3</th>\n",
       "      <td>59</td>\n",
       "      <td>5.183818</td>\n",
       "      <td>6.772052</td>\n",
       "      <td>0</td>\n",
       "    </tr>\n",
       "    <tr>\n",
       "      <th>4</th>\n",
       "      <td>53</td>\n",
       "      <td>5.238965</td>\n",
       "      <td>6.827199</td>\n",
       "      <td>0</td>\n",
       "    </tr>\n",
       "  </tbody>\n",
       "</table>\n",
       "</div>"
      ],
      "text/plain": [
       "    0         1         2  3\n",
       "0  57  3.419114  5.007348  0\n",
       "1  53  3.474261  5.062495  0\n",
       "2  48  3.529408  5.117642  0\n",
       "3  59  5.183818  6.772052  0\n",
       "4  53  5.238965  6.827199  0"
      ]
     },
     "execution_count": 79,
     "metadata": {},
     "output_type": "execute_result"
    }
   ],
   "source": [
    "tab2 = \"./jht+left.txt\"\n",
    "print(tab2)\n",
    "df_hd2 = pd.read_table(tab2, sep='|', header=None)\n",
    "df_hd2.head()"
   ]
  },
  {
   "cell_type": "code",
   "execution_count": 80,
   "metadata": {},
   "outputs": [
    {
     "name": "stdout",
     "output_type": "stream",
     "text": [
      "[57, 53, 48, 59, 53, 50, 58, 53, 49, 57, 53, 48, 55, 50, 46, 45, 48, 53, 43, 46, 50, 36, 41, 48, 57, 47, 53, 62, 46, 53, 62, 46, 53, 61, 45, 52, 60, 50, 57, 62, 43, 50, 58, 50, 48, 55, 58, 60, 41, 48, 57, 58, 55, 41, 48, 57, 58, 55, 53, 60, 65, 52, 60, 64, 50, 57, 65, 48, 57, 64, 46, 53, 62, 58, 45, 53, 60, 43, 50, 58, 55, 48, 55, 64, 50, 57, 65, 62, 45, 53, 60, 46, 53, 62, 58, 45, 53, 57, 43, 53, 55, 58, 62, 48, 55, 60, 62, 60, 62, 53, 60, 65, 52, 60, 64, 50, 57, 65, 48, 57, 64, 46, 53, 62, 58, 45, 53, 60, 43, 50, 58, 55, 48, 55, 64, 50, 57, 65, 62, 45, 53, 60, 46, 53, 62, 58, 45, 53, 60, 43, 50, 58, 48, 55, 58, 64, 41, 48, 53, 55, 57, 60, 65, 67, 46, 53, 58, 53, 48, 55, 60, 55, 41, 48, 57, 53, 47, 53, 62, 46, 53, 62, 53, 45, 53, 60, 53, 43, 50, 58, 50, 45, 53, 60, 53, 46, 55, 62, 55, 48, 55, 60, 55, 41, 48, 57, 53, 47, 53, 62, 46, 53, 58, 61, 65, 45, 52, 57, 52, 38, 45, 50, 53, 43, 50, 58, 50, 36, 43, 48, 52, 41, 48, 55, 57, 48, 55, 57, 47, 50, 55, 59, 50, 55, 59, 46, 49, 55, 58, 49, 55, 58, 41, 48, 53, 57, 48, 53, 57, 50, 57, 62, 57, 65, 57, 62, 57, 47, 50, 55, 50, 59, 50, 55, 50, 46, 49, 55, 49, 58, 49, 55, 49, 41, 48, 53, 55]\n"
     ]
    }
   ],
   "source": [
    "res=[]\n",
    "for index,row in df_hd2.iterrows():\n",
    "    res.append(int(row[0]))\n",
    "print(res)"
   ]
  },
  {
   "cell_type": "code",
   "execution_count": null,
   "metadata": {},
   "outputs": [],
   "source": []
  },
  {
   "cell_type": "code",
   "execution_count": 83,
   "metadata": {},
   "outputs": [],
   "source": []
  },
  {
   "cell_type": "code",
   "execution_count": 84,
   "metadata": {},
   "outputs": [
    {
     "name": "stdout",
     "output_type": "stream",
     "text": [
      "0      5\n",
      "1      3\n",
      "2      1\n",
      "3      5\n",
      "4      4\n",
      "      ..\n",
      "282    2\n",
      "283    1\n",
      "284    2\n",
      "285    4\n",
      "286    5\n",
      "Name: 0, Length: 287, dtype: int64\n"
     ]
    },
    {
     "name": "stderr",
     "output_type": "stream",
     "text": [
      "/usr/local/lib/python3.7/site-packages/ipykernel_launcher.py:1: FutureWarning: \n",
      ".ix is deprecated. Please use\n",
      ".loc for label based indexing or\n",
      ".iloc for positional indexing\n",
      "\n",
      "See the documentation here:\n",
      "http://pandas.pydata.org/pandas-docs/stable/user_guide/indexing.html#ix-indexer-is-deprecated\n",
      "  \"\"\"Entry point for launching an IPython kernel.\n"
     ]
    }
   ],
   "source": [
    "list=df_hd_left.ix[0]\n",
    "print(list)"
   ]
  },
  {
   "cell_type": "code",
   "execution_count": 85,
   "metadata": {},
   "outputs": [],
   "source": [
    "list.to_csv(\"./output_left.csv\", index=False, header=False)"
   ]
  },
  {
   "cell_type": "code",
   "execution_count": 86,
   "metadata": {},
   "outputs": [],
   "source": [
    "df_hd2.to_csv(\"./input_left.csv\", index=False, header=False)"
   ]
  },
  {
   "cell_type": "code",
   "execution_count": 94,
   "metadata": {},
   "outputs": [],
   "source": [
    "res_left = pd.read_csv(\"./res_left.csv\", header=None)"
   ]
  },
  {
   "cell_type": "code",
   "execution_count": 97,
   "metadata": {},
   "outputs": [
    {
     "name": "stdout",
     "output_type": "stream",
     "text": [
      "      0           1           2   3\n",
      "0    57    3.419114    5.007348   6\n",
      "1    53    3.474261    5.062495   8\n",
      "2    48    3.529408    5.117642  10\n",
      "3    59    5.183818    6.772052   6\n",
      "4    53    5.238965    6.827199   7\n",
      "..   ..         ...         ...  ..\n",
      "282  49  151.323368  151.720426   9\n",
      "283  41  151.764544  152.161602  10\n",
      "284  48  152.205720  152.602778   9\n",
      "285  53  152.646896  153.043954   7\n",
      "286  55  153.088072  153.485130   6\n",
      "\n",
      "[287 rows x 4 columns]\n"
     ]
    }
   ],
   "source": [
    "print(res_left)"
   ]
  },
  {
   "cell_type": "code",
   "execution_count": 100,
   "metadata": {},
   "outputs": [],
   "source": [
    "res_left.to_csv(\"./left_test.txt\", sep='|', index=False, header=False, float_format = '%.6f')"
   ]
  },
  {
   "cell_type": "code",
   "execution_count": null,
   "metadata": {},
   "outputs": [],
   "source": []
  },
  {
   "cell_type": "code",
   "execution_count": null,
   "metadata": {},
   "outputs": [],
   "source": [
    "DreamWedding"
   ]
  },
  {
   "cell_type": "code",
   "execution_count": 4,
   "metadata": {},
   "outputs": [],
   "source": [
    "import pandas as pd\n",
    "import matplotlib.pylab as plt\n",
    "import string"
   ]
  },
  {
   "cell_type": "code",
   "execution_count": 5,
   "metadata": {},
   "outputs": [
    {
     "name": "stdout",
     "output_type": "stream",
     "text": [
      "./DreamWedding_left.txt\n"
     ]
    }
   ],
   "source": [
    "tab3 = \"./DreamWedding_left.txt\"\n",
    "print(tab3)"
   ]
  },
  {
   "cell_type": "code",
   "execution_count": 6,
   "metadata": {},
   "outputs": [
    {
     "data": {
      "text/html": [
       "<div>\n",
       "<style scoped>\n",
       "    .dataframe tbody tr th:only-of-type {\n",
       "        vertical-align: middle;\n",
       "    }\n",
       "\n",
       "    .dataframe tbody tr th {\n",
       "        vertical-align: top;\n",
       "    }\n",
       "\n",
       "    .dataframe thead th {\n",
       "        text-align: right;\n",
       "    }\n",
       "</style>\n",
       "<table border=\"1\" class=\"dataframe\">\n",
       "  <thead>\n",
       "    <tr style=\"text-align: right;\">\n",
       "      <th></th>\n",
       "      <th>0</th>\n",
       "      <th>1</th>\n",
       "      <th>2</th>\n",
       "    </tr>\n",
       "  </thead>\n",
       "  <tbody>\n",
       "    <tr>\n",
       "      <th>0</th>\n",
       "      <td>43</td>\n",
       "      <td>0.000000</td>\n",
       "      <td>0.413194</td>\n",
       "    </tr>\n",
       "    <tr>\n",
       "      <th>1</th>\n",
       "      <td>50</td>\n",
       "      <td>0.416666</td>\n",
       "      <td>0.829861</td>\n",
       "    </tr>\n",
       "    <tr>\n",
       "      <th>2</th>\n",
       "      <td>58</td>\n",
       "      <td>0.833333</td>\n",
       "      <td>1.246527</td>\n",
       "    </tr>\n",
       "    <tr>\n",
       "      <th>3</th>\n",
       "      <td>50</td>\n",
       "      <td>1.249999</td>\n",
       "      <td>1.444444</td>\n",
       "    </tr>\n",
       "    <tr>\n",
       "      <th>4</th>\n",
       "      <td>58</td>\n",
       "      <td>1.666666</td>\n",
       "      <td>2.079860</td>\n",
       "    </tr>\n",
       "  </tbody>\n",
       "</table>\n",
       "</div>"
      ],
      "text/plain": [
       "    0         1         2\n",
       "0  43  0.000000  0.413194\n",
       "1  50  0.416666  0.829861\n",
       "2  58  0.833333  1.246527\n",
       "3  50  1.249999  1.444444\n",
       "4  58  1.666666  2.079860"
      ]
     },
     "execution_count": 6,
     "metadata": {},
     "output_type": "execute_result"
    }
   ],
   "source": [
    "df_hd3 = pd.read_table(tab3, sep='|', header=None)\n",
    "df_hd3.head()"
   ]
  },
  {
   "cell_type": "code",
   "execution_count": 16,
   "metadata": {},
   "outputs": [],
   "source": [
    "df_hd3.to_csv(\"./output3_0.csv\", index=False, header=False)"
   ]
  },
  {
   "cell_type": "code",
   "execution_count": 13,
   "metadata": {},
   "outputs": [
    {
     "name": "stdout",
     "output_type": "stream",
     "text": [
      "[43, 50, 58, 50, 58, 50, 58, 50, 43, 50, 58, 50, 58, 50, 55, 58, 48, 55, 63, 55, 60, 63, 41, 48, 57, 48, 57, 48, 57, 46, 53, 58, 50, 54, 60, 43, 50, 58, 50, 58, 50, 43, 50, 58, 48, 55, 60, 55, 60, 63, 41, 48, 57, 46, 53, 45, 43, 50, 58, 50, 58, 50, 43, 50, 58, 48, 55, 63, 55, 60, 63, 41, 48, 57, 46, 53, 45, 43, 50, 58, 48, 55, 63, 41, 48, 57, 46, 53, 45, 43, 50, 58, 45, 51, 55, 50, 57, 66, 43, 50, 58, 48, 55, 63, 41, 48, 57, 46, 53, 45, 43, 50, 58, 48, 55, 63, 41, 48, 57, 43, 50, 55, 58, 55, 50, 43, 50, 55, 58, 55, 58, 48, 55, 60, 63, 60, 55, 41, 48, 53, 57, 53, 48, 46, 53, 58, 62, 46, 53, 43, 50, 55, 58, 55, 58, 48, 55, 60, 63, 60, 55, 41, 48, 53, 57, 43, 50, 58, 62, 67, 70, 43, 50, 58, 50, 58, 50, 43, 50, 58, 48, 55, 63, 55, 60, 63, 41, 48, 57, 46, 53, 45, 43, 50, 58, 50, 58, 50, 43, 50, 58, 48, 55, 63, 55, 60, 63, 41, 48, 57, 46, 53, 45, 43, 50, 58, 48, 55, 63, 41, 48, 57, 46, 53, 45, 43, 50, 58, 48, 55, 63, 41, 48, 57, 43, 50, 55, 58, 55, 50, 43, 50, 55, 58, 55, 58, 48, 55, 60, 63, 60, 55, 41, 48, 53, 57, 53, 57, 46, 53, 58, 62, 46, 53, 43, 50, 55, 58, 55, 58, 48, 55, 60, 63, 60, 55, 41, 48, 53, 57, 43, 50, 58, 62, 67, 70, 43, 50, 58, 50, 58, 50, 55, 58, 48, 55, 63, 55, 60, 63, 41, 48, 57, 48, 57, 48, 57, 46, 53, 58, 50, 54, 60, 43, 50, 58, 50, 58, 50, 43, 50, 58, 48, 55, 60, 55, 60, 63, 41, 48, 57, 46, 53, 45, 43, 50, 58, 50, 58, 50, 43, 50, 58, 48, 55, 63, 55, 60, 63, 41, 48, 57, 46, 53, 45, 43, 50, 58, 48, 55, 63, 41, 48, 57, 46, 53, 45, 43, 50, 58, 48, 55, 63, 41, 48, 57, 43, 50, 55, 58, 55, 50, 43, 50, 55, 58, 55, 58, 48, 55, 60, 63, 60, 55, 41, 48, 53, 57, 53, 57, 46, 53, 58, 62, 46, 53, 43, 50, 55, 58, 55, 58, 48, 55, 60, 63, 60, 55, 41, 48, 53, 57, 53, 57, 43, 50, 55, 58, 55, 50, 43, 50, 55, 58, 55, 58, 48, 55, 60, 63, 60, 55, 41, 48, 53, 57, 53, 57, 46, 53, 58, 62, 46, 53, 43, 50, 55, 58, 55, 58, 48, 55, 60, 63, 60, 55, 41, 48, 53, 57, 43, 50, 57, 58]\n"
     ]
    }
   ],
   "source": [
    "res=[]\n",
    "for index,row in df_hd3.iterrows():\n",
    "    res.append(int(row[0]))\n",
    "print(res)"
   ]
  },
  {
   "cell_type": "code",
   "execution_count": 18,
   "metadata": {},
   "outputs": [
    {
     "data": {
      "text/html": [
       "<div>\n",
       "<style scoped>\n",
       "    .dataframe tbody tr th:only-of-type {\n",
       "        vertical-align: middle;\n",
       "    }\n",
       "\n",
       "    .dataframe tbody tr th {\n",
       "        vertical-align: top;\n",
       "    }\n",
       "\n",
       "    .dataframe thead th {\n",
       "        text-align: right;\n",
       "    }\n",
       "</style>\n",
       "<table border=\"1\" class=\"dataframe\">\n",
       "  <thead>\n",
       "    <tr style=\"text-align: right;\">\n",
       "      <th></th>\n",
       "      <th>0</th>\n",
       "      <th>1</th>\n",
       "      <th>2</th>\n",
       "      <th>3</th>\n",
       "      <th>4</th>\n",
       "      <th>5</th>\n",
       "      <th>6</th>\n",
       "      <th>7</th>\n",
       "      <th>8</th>\n",
       "      <th>9</th>\n",
       "      <th>...</th>\n",
       "      <th>464</th>\n",
       "      <th>465</th>\n",
       "      <th>466</th>\n",
       "      <th>467</th>\n",
       "      <th>468</th>\n",
       "      <th>469</th>\n",
       "      <th>470</th>\n",
       "      <th>471</th>\n",
       "      <th>472</th>\n",
       "      <th>473</th>\n",
       "    </tr>\n",
       "  </thead>\n",
       "  <tbody>\n",
       "    <tr>\n",
       "      <th>0</th>\n",
       "      <td>1</td>\n",
       "      <td>2</td>\n",
       "      <td>5</td>\n",
       "      <td>1</td>\n",
       "      <td>5</td>\n",
       "      <td>1</td>\n",
       "      <td>5</td>\n",
       "      <td>3</td>\n",
       "      <td>1</td>\n",
       "      <td>2</td>\n",
       "      <td>...</td>\n",
       "      <td>3</td>\n",
       "      <td>2</td>\n",
       "      <td>1</td>\n",
       "      <td>2</td>\n",
       "      <td>4</td>\n",
       "      <td>5</td>\n",
       "      <td>1</td>\n",
       "      <td>2</td>\n",
       "      <td>4</td>\n",
       "      <td>5</td>\n",
       "    </tr>\n",
       "  </tbody>\n",
       "</table>\n",
       "<p>1 rows × 474 columns</p>\n",
       "</div>"
      ],
      "text/plain": [
       "   0    1    2    3    4    5    6    7    8    9    ...  464  465  466  467  \\\n",
       "0    1    2    5    1    5    1    5    3    1    2  ...    3    2    1    2   \n",
       "\n",
       "   468  469  470  471  472  473  \n",
       "0    4    5    1    2    4    5  \n",
       "\n",
       "[1 rows x 474 columns]"
      ]
     },
     "execution_count": 18,
     "metadata": {},
     "output_type": "execute_result"
    }
   ],
   "source": [
    "df_hd3_1 = pd.read_table(\"./output3.txt\", sep=',', header=None)\n",
    "df_hd3_1.head()"
   ]
  },
  {
   "cell_type": "code",
   "execution_count": 20,
   "metadata": {},
   "outputs": [
    {
     "name": "stdout",
     "output_type": "stream",
     "text": [
      "0      1\n",
      "1      2\n",
      "2      5\n",
      "3      1\n",
      "4      5\n",
      "      ..\n",
      "469    5\n",
      "470    1\n",
      "471    2\n",
      "472    4\n",
      "473    5\n",
      "Name: 0, Length: 474, dtype: int64\n"
     ]
    },
    {
     "name": "stderr",
     "output_type": "stream",
     "text": [
      "/usr/local/lib/python3.7/site-packages/ipykernel_launcher.py:1: FutureWarning: \n",
      ".ix is deprecated. Please use\n",
      ".loc for label based indexing or\n",
      ".iloc for positional indexing\n",
      "\n",
      "See the documentation here:\n",
      "http://pandas.pydata.org/pandas-docs/stable/user_guide/indexing.html#ix-indexer-is-deprecated\n",
      "  \"\"\"Entry point for launching an IPython kernel.\n"
     ]
    }
   ],
   "source": [
    "list=df_hd3_1.ix[0]\n",
    "print(list)"
   ]
  },
  {
   "cell_type": "code",
   "execution_count": 21,
   "metadata": {},
   "outputs": [],
   "source": [
    "list.to_csv(\"./output3_1.csv\", index=False, header=False)"
   ]
  },
  {
   "cell_type": "code",
   "execution_count": 23,
   "metadata": {},
   "outputs": [
    {
     "name": "stdout",
     "output_type": "stream",
     "text": [
      "      0           1           2   3\n",
      "0    43    0.000000    0.413194   6\n",
      "1    50    0.416666    0.829861   7\n",
      "2    58    0.833333    1.246527  10\n",
      "3    50    1.249999    1.444444   6\n",
      "4    58    1.666666    2.079860  10\n",
      "..   ..         ...         ...  ..\n",
      "469  57  154.758132  155.719649  10\n",
      "470  43  155.725463  156.265981   6\n",
      "471  50  156.270367  156.824780   7\n",
      "472  57  156.829682  157.442834   9\n",
      "473  58  157.448648  160.724668  10\n",
      "\n",
      "[474 rows x 4 columns]\n"
     ]
    }
   ],
   "source": [
    "wed_left = pd.read_csv(\"./output3.csv\", header=None)\n",
    "print(wed_left)\n",
    "wed_left.to_csv(\"./wedding_left.txt\", sep='|', index=False, header=False, float_format = '%.6f')"
   ]
  },
  {
   "cell_type": "code",
   "execution_count": 24,
   "metadata": {},
   "outputs": [
    {
     "name": "stdout",
     "output_type": "stream",
     "text": [
      "./DreamWedding_right.txt\n"
     ]
    }
   ],
   "source": [
    "tab4 = \"./DreamWedding_right.txt\"\n",
    "print(tab4)"
   ]
  },
  {
   "cell_type": "code",
   "execution_count": 25,
   "metadata": {},
   "outputs": [
    {
     "data": {
      "text/html": [
       "<div>\n",
       "<style scoped>\n",
       "    .dataframe tbody tr th:only-of-type {\n",
       "        vertical-align: middle;\n",
       "    }\n",
       "\n",
       "    .dataframe tbody tr th {\n",
       "        vertical-align: top;\n",
       "    }\n",
       "\n",
       "    .dataframe thead th {\n",
       "        text-align: right;\n",
       "    }\n",
       "</style>\n",
       "<table border=\"1\" class=\"dataframe\">\n",
       "  <thead>\n",
       "    <tr style=\"text-align: right;\">\n",
       "      <th></th>\n",
       "      <th>0</th>\n",
       "      <th>1</th>\n",
       "      <th>2</th>\n",
       "    </tr>\n",
       "  </thead>\n",
       "  <tbody>\n",
       "    <tr>\n",
       "      <th>0</th>\n",
       "      <td>79</td>\n",
       "      <td>3.124999</td>\n",
       "      <td>3.312499</td>\n",
       "    </tr>\n",
       "    <tr>\n",
       "      <th>1</th>\n",
       "      <td>79</td>\n",
       "      <td>3.333332</td>\n",
       "      <td>3.547100</td>\n",
       "    </tr>\n",
       "    <tr>\n",
       "      <th>2</th>\n",
       "      <td>81</td>\n",
       "      <td>3.550723</td>\n",
       "      <td>3.764491</td>\n",
       "    </tr>\n",
       "    <tr>\n",
       "      <th>3</th>\n",
       "      <td>81</td>\n",
       "      <td>3.768114</td>\n",
       "      <td>3.981883</td>\n",
       "    </tr>\n",
       "    <tr>\n",
       "      <th>4</th>\n",
       "      <td>82</td>\n",
       "      <td>3.985506</td>\n",
       "      <td>4.199274</td>\n",
       "    </tr>\n",
       "  </tbody>\n",
       "</table>\n",
       "</div>"
      ],
      "text/plain": [
       "    0         1         2\n",
       "0  79  3.124999  3.312499\n",
       "1  79  3.333332  3.547100\n",
       "2  81  3.550723  3.764491\n",
       "3  81  3.768114  3.981883\n",
       "4  82  3.985506  4.199274"
      ]
     },
     "execution_count": 25,
     "metadata": {},
     "output_type": "execute_result"
    }
   ],
   "source": [
    "df_hd4 = pd.read_table(tab4, sep='|', header=None)\n",
    "df_hd4.head()"
   ]
  },
  {
   "cell_type": "code",
   "execution_count": 26,
   "metadata": {},
   "outputs": [],
   "source": [
    "df_hd4.to_csv(\"./output4_0.csv\", index=False, header=False)"
   ]
  },
  {
   "cell_type": "code",
   "execution_count": 27,
   "metadata": {},
   "outputs": [
    {
     "name": "stdout",
     "output_type": "stream",
     "text": [
      "[79, 79, 81, 81, 82, 82, 81, 81, 79, 79, 74, 74, 70, 70, 67, 67, 77, 77, 75, 75, 74, 75, 77, 75, 77, 75, 75, 75, 77, 77, 79, 79, 81, 81, 77, 77, 72, 72, 75, 75, 74, 74, 72, 74, 75, 74, 86, 74, 67, 70, 74, 72, 74, 67, 70, 74, 72, 74, 67, 70, 75, 74, 75, 67, 70, 75, 74, 75, 75, 74, 75, 76, 77, 77, 79, 77, 79, 74, 86, 79, 82, 86, 84, 86, 79, 82, 86, 84, 86, 79, 82, 87, 86, 87, 79, 82, 87, 86, 87, 87, 86, 87, 88, 89, 89, 91, 89, 91, 86, 82, 74, 74, 75, 75, 72, 81, 79, 81, 72, 72, 74, 74, 70, 70, 79, 77, 79, 70, 70, 72, 72, 69, 74, 72, 74, 82, 82, 82, 84, 84, 82, 81, 79, 77, 77, 79, 77, 74, 82, 82, 82, 82, 84, 84, 82, 81, 79, 77, 77, 79, 77, 79, 94, 82, 94, 82, 94, 82, 94, 82, 96, 84, 96, 84, 94, 82, 93, 81, 91, 79, 89, 77, 89, 77, 91, 79, 89, 77, 86, 74, 94, 82, 94, 82, 94, 82, 94, 82, 96, 84, 96, 84, 94, 82, 93, 81, 91, 79, 89, 77, 89, 77, 91, 79, 89, 77, 79, 91, 74, 67, 70, 74, 72, 74, 67, 70, 74, 72, 74, 67, 70, 75, 74, 75, 67, 70, 75, 74, 75, 75, 74, 75, 76, 77, 77, 79, 77, 79, 74, 86, 79, 82, 86, 84, 86, 79, 82, 86, 84, 86, 79, 82, 87, 86, 87, 79, 82, 87, 86, 87, 87, 86, 87, 88, 89, 89, 91, 89, 91, 86, 82, 82, 82, 84, 84, 82, 81, 79, 77, 77, 79, 77, 74, 82, 82, 82, 82, 84, 84, 82, 81, 79, 77, 77, 79, 77, 79, 94, 82, 94, 82, 94, 82, 94, 82, 96, 84, 96, 84, 94, 82, 93, 81, 91, 79, 89, 77, 89, 77, 91, 79, 89, 77, 86, 74, 94, 82, 94, 82, 94, 82, 94, 82, 96, 84, 96, 84, 94, 82, 93, 81, 91, 79, 89, 77, 89, 77, 91, 79, 89, 77, 79, 91, 79, 79, 81, 81, 82, 82, 81, 81, 79, 79, 74, 74, 70, 70, 67, 67, 77, 77, 75, 75, 74, 75, 77, 75, 77, 75, 75, 75, 77, 77, 79, 79, 81, 81, 77, 77, 72, 72, 75, 75, 74, 74, 72, 74, 75, 74, 86, 74, 67, 70, 74, 72, 74, 67, 70, 74, 72, 74, 67, 70, 75, 74, 75, 67, 70, 75, 74, 75, 75, 74, 75, 76, 77, 77, 79, 77, 79, 74, 86, 79, 82, 86, 84, 86, 79, 82, 86, 84, 86, 79, 82, 87, 86, 87, 79, 82, 87, 86, 87, 87, 86, 87, 88, 89, 89, 91, 89, 91, 86, 82, 82, 82, 84, 84, 82, 81, 79, 77, 77, 79, 77, 74, 82, 82, 82, 82, 84, 84, 82, 81, 79, 77, 77, 79, 77, 79, 94, 82, 94, 82, 94, 82, 94, 82, 96, 84, 96, 84, 94, 82, 93, 81, 91, 79, 89, 77, 89, 77, 91, 79, 89, 77, 86, 74, 94, 82, 94, 82, 94, 82, 94, 82, 96, 84, 96, 84, 94, 82, 93, 81, 91, 79, 89, 77, 89, 77, 91, 79, 89, 77, 79, 91, 94, 82, 94, 82, 94, 82, 94, 82, 96, 84, 96, 84, 94, 82, 93, 81, 91, 79, 89, 77, 89, 77, 91, 79, 89, 77, 86, 74, 94, 82, 94, 82, 94, 82, 94, 82, 96, 84, 96, 84, 94, 82, 93, 81, 91, 79, 89, 77, 89, 77, 91, 79, 89, 77, 79, 91, 67]\n"
     ]
    }
   ],
   "source": [
    "res=[]\n",
    "for index,row in df_hd4.iterrows():\n",
    "    res.append(int(row[0]))\n",
    "print(res)"
   ]
  },
  {
   "cell_type": "code",
   "execution_count": 28,
   "metadata": {},
   "outputs": [
    {
     "data": {
      "text/html": [
       "<div>\n",
       "<style scoped>\n",
       "    .dataframe tbody tr th:only-of-type {\n",
       "        vertical-align: middle;\n",
       "    }\n",
       "\n",
       "    .dataframe tbody tr th {\n",
       "        vertical-align: top;\n",
       "    }\n",
       "\n",
       "    .dataframe thead th {\n",
       "        text-align: right;\n",
       "    }\n",
       "</style>\n",
       "<table border=\"1\" class=\"dataframe\">\n",
       "  <thead>\n",
       "    <tr style=\"text-align: right;\">\n",
       "      <th></th>\n",
       "      <th>0</th>\n",
       "      <th>1</th>\n",
       "      <th>2</th>\n",
       "      <th>3</th>\n",
       "      <th>4</th>\n",
       "      <th>5</th>\n",
       "      <th>6</th>\n",
       "      <th>7</th>\n",
       "      <th>8</th>\n",
       "      <th>9</th>\n",
       "      <th>...</th>\n",
       "      <th>602</th>\n",
       "      <th>603</th>\n",
       "      <th>604</th>\n",
       "      <th>605</th>\n",
       "      <th>606</th>\n",
       "      <th>607</th>\n",
       "      <th>608</th>\n",
       "      <th>609</th>\n",
       "      <th>610</th>\n",
       "      <th>611</th>\n",
       "    </tr>\n",
       "  </thead>\n",
       "  <tbody>\n",
       "    <tr>\n",
       "      <th>0</th>\n",
       "      <td>1</td>\n",
       "      <td>1</td>\n",
       "      <td>2</td>\n",
       "      <td>1</td>\n",
       "      <td>2</td>\n",
       "      <td>2</td>\n",
       "      <td>1</td>\n",
       "      <td>4</td>\n",
       "      <td>3</td>\n",
       "      <td>3</td>\n",
       "      <td>...</td>\n",
       "      <td>1</td>\n",
       "      <td>5</td>\n",
       "      <td>1</td>\n",
       "      <td>5</td>\n",
       "      <td>1</td>\n",
       "      <td>5</td>\n",
       "      <td>1</td>\n",
       "      <td>2</td>\n",
       "      <td>5</td>\n",
       "      <td>1</td>\n",
       "    </tr>\n",
       "  </tbody>\n",
       "</table>\n",
       "<p>1 rows × 612 columns</p>\n",
       "</div>"
      ],
      "text/plain": [
       "   0    1    2    3    4    5    6    7    8    9    ...  602  603  604  605  \\\n",
       "0    1    1    2    1    2    2    1    4    3    3  ...    1    5    1    5   \n",
       "\n",
       "   606  607  608  609  610  611  \n",
       "0    1    5    1    2    5    1  \n",
       "\n",
       "[1 rows x 612 columns]"
      ]
     },
     "execution_count": 28,
     "metadata": {},
     "output_type": "execute_result"
    }
   ],
   "source": [
    "df_hd4_1 = pd.read_table(\"./output4.txt\", sep=',', header=None)\n",
    "df_hd4_1.head()"
   ]
  },
  {
   "cell_type": "code",
   "execution_count": 29,
   "metadata": {},
   "outputs": [
    {
     "name": "stdout",
     "output_type": "stream",
     "text": [
      "0      1\n",
      "1      1\n",
      "2      2\n",
      "3      1\n",
      "4      2\n",
      "      ..\n",
      "607    5\n",
      "608    1\n",
      "609    2\n",
      "610    5\n",
      "611    1\n",
      "Name: 0, Length: 612, dtype: int64\n"
     ]
    },
    {
     "name": "stderr",
     "output_type": "stream",
     "text": [
      "/usr/local/lib/python3.7/site-packages/ipykernel_launcher.py:1: FutureWarning: \n",
      ".ix is deprecated. Please use\n",
      ".loc for label based indexing or\n",
      ".iloc for positional indexing\n",
      "\n",
      "See the documentation here:\n",
      "http://pandas.pydata.org/pandas-docs/stable/user_guide/indexing.html#ix-indexer-is-deprecated\n",
      "  \"\"\"Entry point for launching an IPython kernel.\n"
     ]
    }
   ],
   "source": [
    "list=df_hd4_1.ix[0]\n",
    "print(list)"
   ]
  },
  {
   "cell_type": "code",
   "execution_count": 30,
   "metadata": {},
   "outputs": [],
   "source": [
    "list.to_csv(\"./output4_1.csv\", index=False, header=False)"
   ]
  },
  {
   "cell_type": "code",
   "execution_count": 31,
   "metadata": {},
   "outputs": [
    {
     "name": "stdout",
     "output_type": "stream",
     "text": [
      "      0           1           2  3\n",
      "0    79    3.124999    3.312499  1\n",
      "1    79    3.333332    3.547100  1\n",
      "2    81    3.550723    3.764491  2\n",
      "3    81    3.768114    3.981883  1\n",
      "4    82    3.985506    4.199274  2\n",
      "..   ..         ...         ... ..\n",
      "607  89  155.383893  155.719649  5\n",
      "608  77  155.383893  155.719649  1\n",
      "609  79  155.725463  157.442834  2\n",
      "610  91  156.006269  157.442834  5\n",
      "611  67  157.448648  160.724668  1\n",
      "\n",
      "[612 rows x 4 columns]\n"
     ]
    }
   ],
   "source": [
    "wed_right = pd.read_csv(\"./output4.csv\", header=None)\n",
    "print(wed_right)\n",
    "wed_right.to_csv(\"./wedding_right.txt\", sep='|', index=False, header=False, float_format = '%.6f')"
   ]
  },
  {
   "cell_type": "code",
   "execution_count": null,
   "metadata": {},
   "outputs": [],
   "source": []
  }
 ],
 "metadata": {
  "kernelspec": {
   "display_name": "Python 3",
   "language": "python",
   "name": "python3"
  },
  "language_info": {
   "codemirror_mode": {
    "name": "ipython",
    "version": 3
   },
   "file_extension": ".py",
   "mimetype": "text/x-python",
   "name": "python",
   "nbconvert_exporter": "python",
   "pygments_lexer": "ipython3",
   "version": "3.7.3"
  }
 },
 "nbformat": 4,
 "nbformat_minor": 2
}
